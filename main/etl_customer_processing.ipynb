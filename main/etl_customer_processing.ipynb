{
 "cells": [
  {
   "cell_type": "code",
   "execution_count": 24,
   "id": "9efbba91",
   "metadata": {},
   "outputs": [
    {
     "name": "stdout",
     "output_type": "stream",
     "text": [
      "db connected!\n",
      "to_sql duration: 0.176408052444458 seconds\n"
     ]
    }
   ],
   "source": [
    "import os\n",
    "import pandas as pd\n",
    "import psycopg2\n",
    "import time\n",
    "\n",
    "#credential to the database\n",
    "db = psycopg2.connect(\n",
    "    host = 'database-1.crs33oq6czfe.ap-southeast-1.rds.amazonaws.com',\n",
    "    database = 'mydb',\n",
    "    port = '5432',\n",
    "    user = 'postgres',\n",
    "    password = 'BCHEoh3g'\n",
    " \n",
    ")\n",
    "cur = db.cursor()\n",
    "print('db connected!')\n",
    "    \n",
    "\n",
    "#read sql file\n",
    "sql = open ('customer_processing.sql','r')\n",
    "sql_file = sql.read()\n",
    "\n",
    "\n",
    "#execute the file\n",
    "start_time = time.time()\n",
    "result = cur.execute(sql_file)\n",
    "print(\"to_sql duration: {} seconds\".format(time.time() - start_time))\n",
    "\n",
    "db.commit()\n",
    "cur.close()\n",
    "db.close()\n"
   ]
  },
  {
   "cell_type": "code",
   "execution_count": null,
   "id": "6be9911d",
   "metadata": {},
   "outputs": [],
   "source": []
  }
 ],
 "metadata": {
  "kernelspec": {
   "display_name": "Python 3 (ipykernel)",
   "language": "python",
   "name": "python3"
  },
  "language_info": {
   "codemirror_mode": {
    "name": "ipython",
    "version": 3
   },
   "file_extension": ".py",
   "mimetype": "text/x-python",
   "name": "python",
   "nbconvert_exporter": "python",
   "pygments_lexer": "ipython3",
   "version": "3.9.13"
  }
 },
 "nbformat": 4,
 "nbformat_minor": 5
}
